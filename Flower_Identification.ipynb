{
  "nbformat": 4,
  "nbformat_minor": 0,
  "metadata": {
    "colab": {
      "provenance": []
    },
    "kernelspec": {
      "name": "python3",
      "display_name": "Python 3"
    },
    "language_info": {
      "name": "python"
    }
  },
  "cells": [
    {
      "cell_type": "code",
      "execution_count": 1,
      "metadata": {
        "id": "Cs3kE465beiG"
      },
      "outputs": [],
      "source": [
        "import numpy as np\n",
        "import pandas as pd"
      ]
    },
    {
      "cell_type": "code",
      "source": [
        "from sklearn.datasets import load_iris"
      ],
      "metadata": {
        "id": "eH_yHnM4boSf"
      },
      "execution_count": 2,
      "outputs": []
    },
    {
      "cell_type": "code",
      "source": [
        "iris = load_iris()"
      ],
      "metadata": {
        "id": "OkvDRp7-bqVi"
      },
      "execution_count": 3,
      "outputs": []
    },
    {
      "cell_type": "code",
      "source": [
        "print(iris.DESCR)"
      ],
      "metadata": {
        "colab": {
          "base_uri": "https://localhost:8080/"
        },
        "id": "mesMXgxpbr2e",
        "outputId": "37db860f-3b0e-4dd1-dae2-4f300f0d5c06"
      },
      "execution_count": 4,
      "outputs": [
        {
          "output_type": "stream",
          "name": "stdout",
          "text": [
            ".. _iris_dataset:\n",
            "\n",
            "Iris plants dataset\n",
            "--------------------\n",
            "\n",
            "**Data Set Characteristics:**\n",
            "\n",
            "    :Number of Instances: 150 (50 in each of three classes)\n",
            "    :Number of Attributes: 4 numeric, predictive attributes and the class\n",
            "    :Attribute Information:\n",
            "        - sepal length in cm\n",
            "        - sepal width in cm\n",
            "        - petal length in cm\n",
            "        - petal width in cm\n",
            "        - class:\n",
            "                - Iris-Setosa\n",
            "                - Iris-Versicolour\n",
            "                - Iris-Virginica\n",
            "                \n",
            "    :Summary Statistics:\n",
            "\n",
            "    ============== ==== ==== ======= ===== ====================\n",
            "                    Min  Max   Mean    SD   Class Correlation\n",
            "    ============== ==== ==== ======= ===== ====================\n",
            "    sepal length:   4.3  7.9   5.84   0.83    0.7826\n",
            "    sepal width:    2.0  4.4   3.05   0.43   -0.4194\n",
            "    petal length:   1.0  6.9   3.76   1.76    0.9490  (high!)\n",
            "    petal width:    0.1  2.5   1.20   0.76    0.9565  (high!)\n",
            "    ============== ==== ==== ======= ===== ====================\n",
            "\n",
            "    :Missing Attribute Values: None\n",
            "    :Class Distribution: 33.3% for each of 3 classes.\n",
            "    :Creator: R.A. Fisher\n",
            "    :Donor: Michael Marshall (MARSHALL%PLU@io.arc.nasa.gov)\n",
            "    :Date: July, 1988\n",
            "\n",
            "The famous Iris database, first used by Sir R.A. Fisher. The dataset is taken\n",
            "from Fisher's paper. Note that it's the same as in R, but not as in the UCI\n",
            "Machine Learning Repository, which has two wrong data points.\n",
            "\n",
            "This is perhaps the best known database to be found in the\n",
            "pattern recognition literature.  Fisher's paper is a classic in the field and\n",
            "is referenced frequently to this day.  (See Duda & Hart, for example.)  The\n",
            "data set contains 3 classes of 50 instances each, where each class refers to a\n",
            "type of iris plant.  One class is linearly separable from the other 2; the\n",
            "latter are NOT linearly separable from each other.\n",
            "\n",
            ".. topic:: References\n",
            "\n",
            "   - Fisher, R.A. \"The use of multiple measurements in taxonomic problems\"\n",
            "     Annual Eugenics, 7, Part II, 179-188 (1936); also in \"Contributions to\n",
            "     Mathematical Statistics\" (John Wiley, NY, 1950).\n",
            "   - Duda, R.O., & Hart, P.E. (1973) Pattern Classification and Scene Analysis.\n",
            "     (Q327.D83) John Wiley & Sons.  ISBN 0-471-22361-1.  See page 218.\n",
            "   - Dasarathy, B.V. (1980) \"Nosing Around the Neighborhood: A New System\n",
            "     Structure and Classification Rule for Recognition in Partially Exposed\n",
            "     Environments\".  IEEE Transactions on Pattern Analysis and Machine\n",
            "     Intelligence, Vol. PAMI-2, No. 1, 67-71.\n",
            "   - Gates, G.W. (1972) \"The Reduced Nearest Neighbor Rule\".  IEEE Transactions\n",
            "     on Information Theory, May 1972, 431-433.\n",
            "   - See also: 1988 MLC Proceedings, 54-64.  Cheeseman et al\"s AUTOCLASS II\n",
            "     conceptual clustering system finds 3 classes in the data.\n",
            "   - Many, many more ...\n"
          ]
        }
      ]
    },
    {
      "cell_type": "code",
      "source": [
        "X= iris.data"
      ],
      "metadata": {
        "id": "MkQ9CLnEbt0X"
      },
      "execution_count": 5,
      "outputs": []
    },
    {
      "cell_type": "code",
      "source": [
        "y = iris.target"
      ],
      "metadata": {
        "id": "CBzmiJRib-SV"
      },
      "execution_count": 6,
      "outputs": []
    },
    {
      "cell_type": "code",
      "source": [
        "from keras.utils import to_categorical"
      ],
      "metadata": {
        "id": "hcK3aAUIcAE8"
      },
      "execution_count": 8,
      "outputs": []
    },
    {
      "cell_type": "code",
      "source": [
        "y = to_categorical(y)"
      ],
      "metadata": {
        "id": "VuyrP9UQcCeU"
      },
      "execution_count": 9,
      "outputs": []
    },
    {
      "cell_type": "code",
      "source": [
        "from sklearn.model_selection import train_test_split"
      ],
      "metadata": {
        "id": "0Qt_b5jCcXxI"
      },
      "execution_count": 10,
      "outputs": []
    },
    {
      "cell_type": "code",
      "source": [
        " X_train,X_test, y_train, y_test= train_test_split(X,y,test_size= 0.3) "
      ],
      "metadata": {
        "id": "Ma-Jr-fWck25"
      },
      "execution_count": 14,
      "outputs": []
    },
    {
      "cell_type": "code",
      "source": [
        "y_test"
      ],
      "metadata": {
        "colab": {
          "base_uri": "https://localhost:8080/"
        },
        "id": "dVcm0lO-cy44",
        "outputId": "891482bb-b020-4278-c02f-722fde910955"
      },
      "execution_count": 15,
      "outputs": [
        {
          "output_type": "execute_result",
          "data": {
            "text/plain": [
              "array([[1., 0., 0.],\n",
              "       [1., 0., 0.],\n",
              "       [0., 0., 1.],\n",
              "       [0., 0., 1.],\n",
              "       [0., 0., 1.],\n",
              "       [0., 0., 1.],\n",
              "       [1., 0., 0.],\n",
              "       [0., 1., 0.],\n",
              "       [1., 0., 0.],\n",
              "       [0., 1., 0.],\n",
              "       [1., 0., 0.],\n",
              "       [0., 0., 1.],\n",
              "       [0., 0., 1.],\n",
              "       [0., 1., 0.],\n",
              "       [0., 0., 1.],\n",
              "       [0., 1., 0.],\n",
              "       [0., 1., 0.],\n",
              "       [0., 1., 0.],\n",
              "       [0., 0., 1.],\n",
              "       [0., 1., 0.],\n",
              "       [1., 0., 0.],\n",
              "       [0., 0., 1.],\n",
              "       [1., 0., 0.],\n",
              "       [1., 0., 0.],\n",
              "       [0., 1., 0.],\n",
              "       [0., 1., 0.],\n",
              "       [0., 0., 1.],\n",
              "       [1., 0., 0.],\n",
              "       [0., 0., 1.],\n",
              "       [0., 0., 1.],\n",
              "       [0., 0., 1.],\n",
              "       [0., 0., 1.],\n",
              "       [1., 0., 0.],\n",
              "       [0., 0., 1.],\n",
              "       [0., 0., 1.],\n",
              "       [0., 1., 0.],\n",
              "       [0., 1., 0.],\n",
              "       [0., 0., 1.],\n",
              "       [1., 0., 0.],\n",
              "       [0., 0., 1.],\n",
              "       [1., 0., 0.],\n",
              "       [1., 0., 0.],\n",
              "       [0., 1., 0.],\n",
              "       [0., 1., 0.],\n",
              "       [0., 1., 0.]], dtype=float32)"
            ]
          },
          "metadata": {},
          "execution_count": 15
        }
      ]
    },
    {
      "cell_type": "code",
      "source": [
        "from sklearn.preprocessing import MinMaxScaler"
      ],
      "metadata": {
        "id": "eR-63lDudx1L"
      },
      "execution_count": 16,
      "outputs": []
    },
    {
      "cell_type": "code",
      "source": [
        "sc= MinMaxScaler()"
      ],
      "metadata": {
        "id": "zddOs1f5d42t"
      },
      "execution_count": 17,
      "outputs": []
    },
    {
      "cell_type": "code",
      "source": [
        "sc.fit(X_train)"
      ],
      "metadata": {
        "colab": {
          "base_uri": "https://localhost:8080/"
        },
        "id": "6-RpKPgmeAnx",
        "outputId": "22f6afbe-f6d0-425e-81dc-29b9e3135387"
      },
      "execution_count": 18,
      "outputs": [
        {
          "output_type": "execute_result",
          "data": {
            "text/plain": [
              "MinMaxScaler()"
            ]
          },
          "metadata": {},
          "execution_count": 18
        }
      ]
    },
    {
      "cell_type": "code",
      "source": [
        "scaled_X_train = sc.transform(X_train)"
      ],
      "metadata": {
        "id": "FAr36HJ6eC6Y"
      },
      "execution_count": 19,
      "outputs": []
    },
    {
      "cell_type": "code",
      "source": [
        "scaled_X_test= sc.transform(X_test)"
      ],
      "metadata": {
        "id": "teEh33y3eIWR"
      },
      "execution_count": 35,
      "outputs": []
    },
    {
      "cell_type": "code",
      "source": [
        "from keras.models import Sequential\n",
        "from keras.layers import Dense"
      ],
      "metadata": {
        "id": "FpQqctiTeNe_"
      },
      "execution_count": 22,
      "outputs": []
    },
    {
      "cell_type": "code",
      "source": [
        "model = Sequential()\n",
        "model.add(Dense(8, input_dim=4, activation ='relu'))\n",
        "model.add(Dense(8, input_dim=4, activation ='relu'))\n",
        "model.add(Dense(3, activation ='softmax'))\n",
        "model.compile(loss='categorical_crossentropy', optimizer= 'adam', metrics= ['accuracy'])"
      ],
      "metadata": {
        "id": "3uFcVp_DeWvx"
      },
      "execution_count": 23,
      "outputs": []
    },
    {
      "cell_type": "code",
      "source": [
        "model.summary()"
      ],
      "metadata": {
        "colab": {
          "base_uri": "https://localhost:8080/"
        },
        "id": "AfO3hbmqfB70",
        "outputId": "53b462f5-0424-4b67-fb3f-fc9b61814c3d"
      },
      "execution_count": 24,
      "outputs": [
        {
          "output_type": "stream",
          "name": "stdout",
          "text": [
            "Model: \"sequential\"\n",
            "_________________________________________________________________\n",
            " Layer (type)                Output Shape              Param #   \n",
            "=================================================================\n",
            " dense (Dense)               (None, 8)                 40        \n",
            "                                                                 \n",
            " dense_1 (Dense)             (None, 8)                 72        \n",
            "                                                                 \n",
            " dense_2 (Dense)             (None, 3)                 27        \n",
            "                                                                 \n",
            "=================================================================\n",
            "Total params: 139\n",
            "Trainable params: 139\n",
            "Non-trainable params: 0\n",
            "_________________________________________________________________\n"
          ]
        }
      ]
    },
    {
      "cell_type": "code",
      "source": [
        "model.fit(scaled_X_train, y_train, epochs = 150, verbose = 2)"
      ],
      "metadata": {
        "colab": {
          "base_uri": "https://localhost:8080/"
        },
        "id": "dCMgnR0JfEXP",
        "outputId": "7902c45d-6b53-4f40-91ca-e5eb8d53ee8c"
      },
      "execution_count": 26,
      "outputs": [
        {
          "output_type": "stream",
          "name": "stdout",
          "text": [
            "Epoch 1/150\n",
            "4/4 - 0s - loss: 1.0916 - accuracy: 0.3048 - 10ms/epoch - 2ms/step\n",
            "Epoch 2/150\n",
            "4/4 - 0s - loss: 1.0894 - accuracy: 0.3048 - 11ms/epoch - 3ms/step\n",
            "Epoch 3/150\n",
            "4/4 - 0s - loss: 1.0875 - accuracy: 0.3048 - 9ms/epoch - 2ms/step\n",
            "Epoch 4/150\n",
            "4/4 - 0s - loss: 1.0860 - accuracy: 0.3048 - 9ms/epoch - 2ms/step\n",
            "Epoch 5/150\n",
            "4/4 - 0s - loss: 1.0847 - accuracy: 0.3048 - 10ms/epoch - 3ms/step\n",
            "Epoch 6/150\n",
            "4/4 - 0s - loss: 1.0834 - accuracy: 0.3524 - 11ms/epoch - 3ms/step\n",
            "Epoch 7/150\n",
            "4/4 - 0s - loss: 1.0818 - accuracy: 0.4762 - 11ms/epoch - 3ms/step\n",
            "Epoch 8/150\n",
            "4/4 - 0s - loss: 1.0804 - accuracy: 0.5429 - 12ms/epoch - 3ms/step\n",
            "Epoch 9/150\n",
            "4/4 - 0s - loss: 1.0789 - accuracy: 0.6381 - 9ms/epoch - 2ms/step\n",
            "Epoch 10/150\n",
            "4/4 - 0s - loss: 1.0774 - accuracy: 0.6571 - 10ms/epoch - 3ms/step\n",
            "Epoch 11/150\n",
            "4/4 - 0s - loss: 1.0757 - accuracy: 0.6571 - 9ms/epoch - 2ms/step\n",
            "Epoch 12/150\n",
            "4/4 - 0s - loss: 1.0741 - accuracy: 0.6571 - 10ms/epoch - 2ms/step\n",
            "Epoch 13/150\n",
            "4/4 - 0s - loss: 1.0724 - accuracy: 0.6571 - 11ms/epoch - 3ms/step\n",
            "Epoch 14/150\n",
            "4/4 - 0s - loss: 1.0705 - accuracy: 0.6571 - 11ms/epoch - 3ms/step\n",
            "Epoch 15/150\n",
            "4/4 - 0s - loss: 1.0685 - accuracy: 0.6571 - 9ms/epoch - 2ms/step\n",
            "Epoch 16/150\n",
            "4/4 - 0s - loss: 1.0665 - accuracy: 0.6571 - 9ms/epoch - 2ms/step\n",
            "Epoch 17/150\n",
            "4/4 - 0s - loss: 1.0644 - accuracy: 0.6571 - 9ms/epoch - 2ms/step\n",
            "Epoch 18/150\n",
            "4/4 - 0s - loss: 1.0622 - accuracy: 0.6571 - 9ms/epoch - 2ms/step\n",
            "Epoch 19/150\n",
            "4/4 - 0s - loss: 1.0600 - accuracy: 0.6571 - 8ms/epoch - 2ms/step\n",
            "Epoch 20/150\n",
            "4/4 - 0s - loss: 1.0576 - accuracy: 0.6571 - 10ms/epoch - 3ms/step\n",
            "Epoch 21/150\n",
            "4/4 - 0s - loss: 1.0550 - accuracy: 0.6571 - 9ms/epoch - 2ms/step\n",
            "Epoch 22/150\n",
            "4/4 - 0s - loss: 1.0524 - accuracy: 0.6571 - 9ms/epoch - 2ms/step\n",
            "Epoch 23/150\n",
            "4/4 - 0s - loss: 1.0496 - accuracy: 0.6571 - 10ms/epoch - 3ms/step\n",
            "Epoch 24/150\n",
            "4/4 - 0s - loss: 1.0469 - accuracy: 0.6571 - 12ms/epoch - 3ms/step\n",
            "Epoch 25/150\n",
            "4/4 - 0s - loss: 1.0439 - accuracy: 0.6571 - 10ms/epoch - 3ms/step\n",
            "Epoch 26/150\n",
            "4/4 - 0s - loss: 1.0409 - accuracy: 0.6571 - 9ms/epoch - 2ms/step\n",
            "Epoch 27/150\n",
            "4/4 - 0s - loss: 1.0377 - accuracy: 0.6571 - 9ms/epoch - 2ms/step\n",
            "Epoch 28/150\n",
            "4/4 - 0s - loss: 1.0345 - accuracy: 0.6571 - 10ms/epoch - 3ms/step\n",
            "Epoch 29/150\n",
            "4/4 - 0s - loss: 1.0311 - accuracy: 0.6571 - 11ms/epoch - 3ms/step\n",
            "Epoch 30/150\n",
            "4/4 - 0s - loss: 1.0273 - accuracy: 0.6571 - 12ms/epoch - 3ms/step\n",
            "Epoch 31/150\n",
            "4/4 - 0s - loss: 1.0236 - accuracy: 0.6571 - 9ms/epoch - 2ms/step\n",
            "Epoch 32/150\n",
            "4/4 - 0s - loss: 1.0195 - accuracy: 0.6571 - 9ms/epoch - 2ms/step\n",
            "Epoch 33/150\n",
            "4/4 - 0s - loss: 1.0153 - accuracy: 0.6571 - 11ms/epoch - 3ms/step\n",
            "Epoch 34/150\n",
            "4/4 - 0s - loss: 1.0109 - accuracy: 0.6571 - 10ms/epoch - 2ms/step\n",
            "Epoch 35/150\n",
            "4/4 - 0s - loss: 1.0061 - accuracy: 0.6571 - 9ms/epoch - 2ms/step\n",
            "Epoch 36/150\n",
            "4/4 - 0s - loss: 1.0011 - accuracy: 0.6571 - 9ms/epoch - 2ms/step\n",
            "Epoch 37/150\n",
            "4/4 - 0s - loss: 0.9958 - accuracy: 0.6571 - 9ms/epoch - 2ms/step\n",
            "Epoch 38/150\n",
            "4/4 - 0s - loss: 0.9900 - accuracy: 0.6571 - 9ms/epoch - 2ms/step\n",
            "Epoch 39/150\n",
            "4/4 - 0s - loss: 0.9842 - accuracy: 0.6571 - 9ms/epoch - 2ms/step\n",
            "Epoch 40/150\n",
            "4/4 - 0s - loss: 0.9784 - accuracy: 0.6571 - 9ms/epoch - 2ms/step\n",
            "Epoch 41/150\n",
            "4/4 - 0s - loss: 0.9724 - accuracy: 0.6571 - 8ms/epoch - 2ms/step\n",
            "Epoch 42/150\n",
            "4/4 - 0s - loss: 0.9666 - accuracy: 0.6571 - 9ms/epoch - 2ms/step\n",
            "Epoch 43/150\n",
            "4/4 - 0s - loss: 0.9601 - accuracy: 0.6571 - 12ms/epoch - 3ms/step\n",
            "Epoch 44/150\n",
            "4/4 - 0s - loss: 0.9535 - accuracy: 0.6571 - 9ms/epoch - 2ms/step\n",
            "Epoch 45/150\n",
            "4/4 - 0s - loss: 0.9468 - accuracy: 0.6571 - 9ms/epoch - 2ms/step\n",
            "Epoch 46/150\n",
            "4/4 - 0s - loss: 0.9398 - accuracy: 0.6571 - 9ms/epoch - 2ms/step\n",
            "Epoch 47/150\n",
            "4/4 - 0s - loss: 0.9328 - accuracy: 0.6571 - 10ms/epoch - 3ms/step\n",
            "Epoch 48/150\n",
            "4/4 - 0s - loss: 0.9259 - accuracy: 0.6571 - 10ms/epoch - 3ms/step\n",
            "Epoch 49/150\n",
            "4/4 - 0s - loss: 0.9189 - accuracy: 0.6571 - 9ms/epoch - 2ms/step\n",
            "Epoch 50/150\n",
            "4/4 - 0s - loss: 0.9110 - accuracy: 0.6571 - 10ms/epoch - 3ms/step\n",
            "Epoch 51/150\n",
            "4/4 - 0s - loss: 0.9036 - accuracy: 0.6571 - 10ms/epoch - 2ms/step\n",
            "Epoch 52/150\n",
            "4/4 - 0s - loss: 0.8958 - accuracy: 0.6571 - 11ms/epoch - 3ms/step\n",
            "Epoch 53/150\n",
            "4/4 - 0s - loss: 0.8881 - accuracy: 0.6571 - 11ms/epoch - 3ms/step\n",
            "Epoch 54/150\n",
            "4/4 - 0s - loss: 0.8808 - accuracy: 0.6571 - 9ms/epoch - 2ms/step\n",
            "Epoch 55/150\n",
            "4/4 - 0s - loss: 0.8727 - accuracy: 0.6571 - 9ms/epoch - 2ms/step\n",
            "Epoch 56/150\n",
            "4/4 - 0s - loss: 0.8649 - accuracy: 0.6571 - 9ms/epoch - 2ms/step\n",
            "Epoch 57/150\n",
            "4/4 - 0s - loss: 0.8571 - accuracy: 0.6571 - 12ms/epoch - 3ms/step\n",
            "Epoch 58/150\n",
            "4/4 - 0s - loss: 0.8493 - accuracy: 0.6571 - 12ms/epoch - 3ms/step\n",
            "Epoch 59/150\n",
            "4/4 - 0s - loss: 0.8415 - accuracy: 0.6571 - 12ms/epoch - 3ms/step\n",
            "Epoch 60/150\n",
            "4/4 - 0s - loss: 0.8333 - accuracy: 0.6571 - 9ms/epoch - 2ms/step\n",
            "Epoch 61/150\n",
            "4/4 - 0s - loss: 0.8254 - accuracy: 0.6571 - 11ms/epoch - 3ms/step\n",
            "Epoch 62/150\n",
            "4/4 - 0s - loss: 0.8173 - accuracy: 0.6571 - 11ms/epoch - 3ms/step\n",
            "Epoch 63/150\n",
            "4/4 - 0s - loss: 0.8090 - accuracy: 0.6571 - 9ms/epoch - 2ms/step\n",
            "Epoch 64/150\n",
            "4/4 - 0s - loss: 0.8007 - accuracy: 0.6571 - 10ms/epoch - 3ms/step\n",
            "Epoch 65/150\n",
            "4/4 - 0s - loss: 0.7926 - accuracy: 0.6571 - 9ms/epoch - 2ms/step\n",
            "Epoch 66/150\n",
            "4/4 - 0s - loss: 0.7844 - accuracy: 0.6571 - 11ms/epoch - 3ms/step\n",
            "Epoch 67/150\n",
            "4/4 - 0s - loss: 0.7765 - accuracy: 0.6571 - 9ms/epoch - 2ms/step\n",
            "Epoch 68/150\n",
            "4/4 - 0s - loss: 0.7686 - accuracy: 0.6571 - 10ms/epoch - 2ms/step\n",
            "Epoch 69/150\n",
            "4/4 - 0s - loss: 0.7605 - accuracy: 0.6571 - 13ms/epoch - 3ms/step\n",
            "Epoch 70/150\n",
            "4/4 - 0s - loss: 0.7528 - accuracy: 0.6571 - 12ms/epoch - 3ms/step\n",
            "Epoch 71/150\n",
            "4/4 - 0s - loss: 0.7449 - accuracy: 0.6571 - 9ms/epoch - 2ms/step\n",
            "Epoch 72/150\n",
            "4/4 - 0s - loss: 0.7373 - accuracy: 0.6571 - 9ms/epoch - 2ms/step\n",
            "Epoch 73/150\n",
            "4/4 - 0s - loss: 0.7296 - accuracy: 0.6571 - 9ms/epoch - 2ms/step\n",
            "Epoch 74/150\n",
            "4/4 - 0s - loss: 0.7218 - accuracy: 0.6571 - 8ms/epoch - 2ms/step\n",
            "Epoch 75/150\n",
            "4/4 - 0s - loss: 0.7144 - accuracy: 0.6571 - 10ms/epoch - 3ms/step\n",
            "Epoch 76/150\n",
            "4/4 - 0s - loss: 0.7065 - accuracy: 0.6571 - 9ms/epoch - 2ms/step\n",
            "Epoch 77/150\n",
            "4/4 - 0s - loss: 0.6993 - accuracy: 0.6571 - 9ms/epoch - 2ms/step\n",
            "Epoch 78/150\n",
            "4/4 - 0s - loss: 0.6918 - accuracy: 0.6571 - 9ms/epoch - 2ms/step\n",
            "Epoch 79/150\n",
            "4/4 - 0s - loss: 0.6849 - accuracy: 0.6571 - 9ms/epoch - 2ms/step\n",
            "Epoch 80/150\n",
            "4/4 - 0s - loss: 0.6776 - accuracy: 0.6571 - 9ms/epoch - 2ms/step\n",
            "Epoch 81/150\n",
            "4/4 - 0s - loss: 0.6710 - accuracy: 0.6571 - 9ms/epoch - 2ms/step\n",
            "Epoch 82/150\n",
            "4/4 - 0s - loss: 0.6640 - accuracy: 0.6571 - 10ms/epoch - 2ms/step\n",
            "Epoch 83/150\n",
            "4/4 - 0s - loss: 0.6573 - accuracy: 0.6571 - 9ms/epoch - 2ms/step\n",
            "Epoch 84/150\n",
            "4/4 - 0s - loss: 0.6508 - accuracy: 0.6571 - 9ms/epoch - 2ms/step\n",
            "Epoch 85/150\n",
            "4/4 - 0s - loss: 0.6444 - accuracy: 0.6571 - 10ms/epoch - 2ms/step\n",
            "Epoch 86/150\n",
            "4/4 - 0s - loss: 0.6383 - accuracy: 0.6571 - 14ms/epoch - 4ms/step\n",
            "Epoch 87/150\n",
            "4/4 - 0s - loss: 0.6322 - accuracy: 0.6571 - 11ms/epoch - 3ms/step\n",
            "Epoch 88/150\n",
            "4/4 - 0s - loss: 0.6264 - accuracy: 0.6571 - 11ms/epoch - 3ms/step\n",
            "Epoch 89/150\n",
            "4/4 - 0s - loss: 0.6204 - accuracy: 0.6571 - 9ms/epoch - 2ms/step\n",
            "Epoch 90/150\n",
            "4/4 - 0s - loss: 0.6146 - accuracy: 0.6571 - 9ms/epoch - 2ms/step\n",
            "Epoch 91/150\n",
            "4/4 - 0s - loss: 0.6091 - accuracy: 0.6571 - 8ms/epoch - 2ms/step\n",
            "Epoch 92/150\n",
            "4/4 - 0s - loss: 0.6036 - accuracy: 0.6571 - 8ms/epoch - 2ms/step\n",
            "Epoch 93/150\n",
            "4/4 - 0s - loss: 0.5982 - accuracy: 0.6571 - 9ms/epoch - 2ms/step\n",
            "Epoch 94/150\n",
            "4/4 - 0s - loss: 0.5931 - accuracy: 0.6571 - 11ms/epoch - 3ms/step\n",
            "Epoch 95/150\n",
            "4/4 - 0s - loss: 0.5878 - accuracy: 0.6571 - 9ms/epoch - 2ms/step\n",
            "Epoch 96/150\n",
            "4/4 - 0s - loss: 0.5830 - accuracy: 0.6571 - 9ms/epoch - 2ms/step\n",
            "Epoch 97/150\n",
            "4/4 - 0s - loss: 0.5782 - accuracy: 0.6571 - 9ms/epoch - 2ms/step\n",
            "Epoch 98/150\n",
            "4/4 - 0s - loss: 0.5737 - accuracy: 0.6571 - 8ms/epoch - 2ms/step\n",
            "Epoch 99/150\n",
            "4/4 - 0s - loss: 0.5690 - accuracy: 0.6571 - 8ms/epoch - 2ms/step\n",
            "Epoch 100/150\n",
            "4/4 - 0s - loss: 0.5645 - accuracy: 0.6571 - 16ms/epoch - 4ms/step\n",
            "Epoch 101/150\n",
            "4/4 - 0s - loss: 0.5602 - accuracy: 0.6571 - 10ms/epoch - 3ms/step\n",
            "Epoch 102/150\n",
            "4/4 - 0s - loss: 0.5560 - accuracy: 0.6571 - 9ms/epoch - 2ms/step\n",
            "Epoch 103/150\n",
            "4/4 - 0s - loss: 0.5520 - accuracy: 0.6571 - 10ms/epoch - 2ms/step\n",
            "Epoch 104/150\n",
            "4/4 - 0s - loss: 0.5479 - accuracy: 0.6571 - 9ms/epoch - 2ms/step\n",
            "Epoch 105/150\n",
            "4/4 - 0s - loss: 0.5440 - accuracy: 0.6571 - 8ms/epoch - 2ms/step\n",
            "Epoch 106/150\n",
            "4/4 - 0s - loss: 0.5402 - accuracy: 0.6571 - 9ms/epoch - 2ms/step\n",
            "Epoch 107/150\n",
            "4/4 - 0s - loss: 0.5365 - accuracy: 0.6571 - 9ms/epoch - 2ms/step\n",
            "Epoch 108/150\n",
            "4/4 - 0s - loss: 0.5331 - accuracy: 0.6571 - 9ms/epoch - 2ms/step\n",
            "Epoch 109/150\n",
            "4/4 - 0s - loss: 0.5294 - accuracy: 0.6571 - 12ms/epoch - 3ms/step\n",
            "Epoch 110/150\n",
            "4/4 - 0s - loss: 0.5261 - accuracy: 0.6571 - 11ms/epoch - 3ms/step\n",
            "Epoch 111/150\n",
            "4/4 - 0s - loss: 0.5228 - accuracy: 0.6571 - 10ms/epoch - 2ms/step\n",
            "Epoch 112/150\n",
            "4/4 - 0s - loss: 0.5196 - accuracy: 0.6571 - 10ms/epoch - 2ms/step\n",
            "Epoch 113/150\n",
            "4/4 - 0s - loss: 0.5166 - accuracy: 0.6571 - 10ms/epoch - 2ms/step\n",
            "Epoch 114/150\n",
            "4/4 - 0s - loss: 0.5136 - accuracy: 0.6571 - 8ms/epoch - 2ms/step\n",
            "Epoch 115/150\n",
            "4/4 - 0s - loss: 0.5107 - accuracy: 0.6571 - 8ms/epoch - 2ms/step\n",
            "Epoch 116/150\n",
            "4/4 - 0s - loss: 0.5077 - accuracy: 0.6571 - 8ms/epoch - 2ms/step\n",
            "Epoch 117/150\n",
            "4/4 - 0s - loss: 0.5050 - accuracy: 0.6571 - 8ms/epoch - 2ms/step\n",
            "Epoch 118/150\n",
            "4/4 - 0s - loss: 0.5022 - accuracy: 0.6667 - 8ms/epoch - 2ms/step\n",
            "Epoch 119/150\n",
            "4/4 - 0s - loss: 0.4995 - accuracy: 0.6667 - 8ms/epoch - 2ms/step\n",
            "Epoch 120/150\n",
            "4/4 - 0s - loss: 0.4969 - accuracy: 0.6667 - 10ms/epoch - 2ms/step\n",
            "Epoch 121/150\n",
            "4/4 - 0s - loss: 0.4945 - accuracy: 0.6667 - 11ms/epoch - 3ms/step\n",
            "Epoch 122/150\n",
            "4/4 - 0s - loss: 0.4920 - accuracy: 0.6762 - 9ms/epoch - 2ms/step\n",
            "Epoch 123/150\n",
            "4/4 - 0s - loss: 0.4896 - accuracy: 0.6857 - 9ms/epoch - 2ms/step\n",
            "Epoch 124/150\n",
            "4/4 - 0s - loss: 0.4873 - accuracy: 0.6952 - 9ms/epoch - 2ms/step\n",
            "Epoch 125/150\n",
            "4/4 - 0s - loss: 0.4851 - accuracy: 0.7048 - 10ms/epoch - 2ms/step\n",
            "Epoch 126/150\n",
            "4/4 - 0s - loss: 0.4833 - accuracy: 0.7143 - 9ms/epoch - 2ms/step\n",
            "Epoch 127/150\n",
            "4/4 - 0s - loss: 0.4810 - accuracy: 0.7333 - 13ms/epoch - 3ms/step\n",
            "Epoch 128/150\n",
            "4/4 - 0s - loss: 0.4790 - accuracy: 0.7333 - 9ms/epoch - 2ms/step\n",
            "Epoch 129/150\n",
            "4/4 - 0s - loss: 0.4770 - accuracy: 0.7333 - 11ms/epoch - 3ms/step\n",
            "Epoch 130/150\n",
            "4/4 - 0s - loss: 0.4749 - accuracy: 0.7333 - 10ms/epoch - 2ms/step\n",
            "Epoch 131/150\n",
            "4/4 - 0s - loss: 0.4729 - accuracy: 0.7333 - 11ms/epoch - 3ms/step\n",
            "Epoch 132/150\n",
            "4/4 - 0s - loss: 0.4711 - accuracy: 0.7333 - 10ms/epoch - 2ms/step\n",
            "Epoch 133/150\n",
            "4/4 - 0s - loss: 0.4693 - accuracy: 0.7333 - 11ms/epoch - 3ms/step\n",
            "Epoch 134/150\n",
            "4/4 - 0s - loss: 0.4677 - accuracy: 0.7333 - 9ms/epoch - 2ms/step\n",
            "Epoch 135/150\n",
            "4/4 - 0s - loss: 0.4658 - accuracy: 0.7429 - 10ms/epoch - 2ms/step\n",
            "Epoch 136/150\n",
            "4/4 - 0s - loss: 0.4641 - accuracy: 0.7429 - 10ms/epoch - 3ms/step\n",
            "Epoch 137/150\n",
            "4/4 - 0s - loss: 0.4625 - accuracy: 0.7524 - 10ms/epoch - 2ms/step\n",
            "Epoch 138/150\n",
            "4/4 - 0s - loss: 0.4609 - accuracy: 0.7524 - 12ms/epoch - 3ms/step\n",
            "Epoch 139/150\n",
            "4/4 - 0s - loss: 0.4592 - accuracy: 0.7524 - 12ms/epoch - 3ms/step\n",
            "Epoch 140/150\n",
            "4/4 - 0s - loss: 0.4577 - accuracy: 0.7429 - 12ms/epoch - 3ms/step\n",
            "Epoch 141/150\n",
            "4/4 - 0s - loss: 0.4561 - accuracy: 0.7333 - 13ms/epoch - 3ms/step\n",
            "Epoch 142/150\n",
            "4/4 - 0s - loss: 0.4546 - accuracy: 0.7333 - 9ms/epoch - 2ms/step\n",
            "Epoch 143/150\n",
            "4/4 - 0s - loss: 0.4532 - accuracy: 0.7333 - 9ms/epoch - 2ms/step\n",
            "Epoch 144/150\n",
            "4/4 - 0s - loss: 0.4518 - accuracy: 0.7524 - 10ms/epoch - 2ms/step\n",
            "Epoch 145/150\n",
            "4/4 - 0s - loss: 0.4505 - accuracy: 0.7619 - 10ms/epoch - 3ms/step\n",
            "Epoch 146/150\n",
            "4/4 - 0s - loss: 0.4491 - accuracy: 0.7714 - 12ms/epoch - 3ms/step\n",
            "Epoch 147/150\n",
            "4/4 - 0s - loss: 0.4478 - accuracy: 0.7810 - 11ms/epoch - 3ms/step\n",
            "Epoch 148/150\n",
            "4/4 - 0s - loss: 0.4465 - accuracy: 0.7810 - 9ms/epoch - 2ms/step\n",
            "Epoch 149/150\n",
            "4/4 - 0s - loss: 0.4451 - accuracy: 0.7810 - 9ms/epoch - 2ms/step\n",
            "Epoch 150/150\n",
            "4/4 - 0s - loss: 0.4439 - accuracy: 0.7810 - 9ms/epoch - 2ms/step\n"
          ]
        },
        {
          "output_type": "execute_result",
          "data": {
            "text/plain": [
              "<keras.callbacks.History at 0x7fb309666ad0>"
            ]
          },
          "metadata": {},
          "execution_count": 26
        }
      ]
    },
    {
      "cell_type": "code",
      "source": [
        "predictions = (model.predict(scaled_X_test)>0.5).astype('int32')"
      ],
      "metadata": {
        "colab": {
          "base_uri": "https://localhost:8080/"
        },
        "id": "VS1vhRdJfUJd",
        "outputId": "dddd694e-f1ea-47e8-f8d7-f20bf2b7533f"
      },
      "execution_count": 39,
      "outputs": [
        {
          "output_type": "stream",
          "name": "stdout",
          "text": [
            "2/2 [==============================] - 0s 4ms/step\n"
          ]
        }
      ]
    },
    {
      "cell_type": "code",
      "source": [
        " y_test.argmax(axis=1)"
      ],
      "metadata": {
        "colab": {
          "base_uri": "https://localhost:8080/"
        },
        "id": "snW6N8M3iVWA",
        "outputId": "e21fb4be-67de-4e4a-af2e-b280b553412c"
      },
      "execution_count": 46,
      "outputs": [
        {
          "output_type": "execute_result",
          "data": {
            "text/plain": [
              "array([0, 0, 2, 2, 2, 2, 0, 1, 0, 1, 0, 2, 2, 1, 2, 1, 1, 1, 2, 1, 0, 2,\n",
              "       0, 0, 1, 1, 2, 0, 2, 2, 2, 2, 0, 2, 2, 1, 1, 2, 0, 2, 0, 0, 1, 1,\n",
              "       1])"
            ]
          },
          "metadata": {},
          "execution_count": 46
        }
      ]
    },
    {
      "cell_type": "code",
      "source": [
        "from sklearn.metrics import confusion_matrix, classification_report, accuracy_score"
      ],
      "metadata": {
        "id": "_wJ4KbwFi09T"
      },
      "execution_count": 41,
      "outputs": []
    },
    {
      "cell_type": "code",
      "source": [
        "predictions"
      ],
      "metadata": {
        "colab": {
          "base_uri": "https://localhost:8080/"
        },
        "id": "fRvPCdJKlPjp",
        "outputId": "e2794b07-6ec0-4ff4-d811-394f9acc8118"
      },
      "execution_count": 48,
      "outputs": [
        {
          "output_type": "execute_result",
          "data": {
            "text/plain": [
              "array([[1, 0, 0],\n",
              "       [1, 0, 0],\n",
              "       [0, 0, 1],\n",
              "       [0, 0, 1],\n",
              "       [0, 0, 1],\n",
              "       [0, 0, 1],\n",
              "       [1, 0, 0],\n",
              "       [0, 0, 0],\n",
              "       [1, 0, 0],\n",
              "       [0, 0, 0],\n",
              "       [1, 0, 0],\n",
              "       [0, 0, 1],\n",
              "       [0, 0, 1],\n",
              "       [0, 0, 0],\n",
              "       [0, 0, 1],\n",
              "       [0, 0, 0],\n",
              "       [0, 0, 0],\n",
              "       [0, 0, 0],\n",
              "       [0, 0, 1],\n",
              "       [0, 0, 1],\n",
              "       [1, 0, 0],\n",
              "       [0, 0, 1],\n",
              "       [1, 0, 0],\n",
              "       [1, 0, 0],\n",
              "       [0, 0, 1],\n",
              "       [0, 0, 1],\n",
              "       [0, 0, 1],\n",
              "       [1, 0, 0],\n",
              "       [0, 0, 1],\n",
              "       [0, 0, 1],\n",
              "       [0, 0, 1],\n",
              "       [0, 0, 1],\n",
              "       [1, 0, 0],\n",
              "       [0, 0, 1],\n",
              "       [0, 0, 1],\n",
              "       [0, 0, 1],\n",
              "       [0, 0, 0],\n",
              "       [0, 0, 1],\n",
              "       [1, 0, 0],\n",
              "       [0, 0, 1],\n",
              "       [1, 0, 0],\n",
              "       [1, 0, 0],\n",
              "       [0, 0, 1],\n",
              "       [0, 0, 1],\n",
              "       [0, 0, 0]], dtype=int32)"
            ]
          },
          "metadata": {},
          "execution_count": 48
        }
      ]
    },
    {
      "cell_type": "code",
      "source": [
        "print(classification_report(y_test.argmax(axis=1),predictions))"
      ],
      "metadata": {
        "colab": {
          "base_uri": "https://localhost:8080/",
          "height": 311
        },
        "id": "qdJvzz6Um54B",
        "outputId": "7dda4916-20a9-4283-9180-2528250c05db"
      },
      "execution_count": 50,
      "outputs": [
        {
          "output_type": "error",
          "ename": "ValueError",
          "evalue": "ignored",
          "traceback": [
            "\u001b[0;31m---------------------------------------------------------------------------\u001b[0m",
            "\u001b[0;31mValueError\u001b[0m                                Traceback (most recent call last)",
            "\u001b[0;32m<ipython-input-50-c48bdca20f94>\u001b[0m in \u001b[0;36m<module>\u001b[0;34m\u001b[0m\n\u001b[0;32m----> 1\u001b[0;31m \u001b[0mprint\u001b[0m\u001b[0;34m(\u001b[0m\u001b[0mclassification_report\u001b[0m\u001b[0;34m(\u001b[0m\u001b[0my_test\u001b[0m\u001b[0;34m.\u001b[0m\u001b[0margmax\u001b[0m\u001b[0;34m(\u001b[0m\u001b[0maxis\u001b[0m\u001b[0;34m=\u001b[0m\u001b[0;36m1\u001b[0m\u001b[0;34m)\u001b[0m\u001b[0;34m,\u001b[0m\u001b[0mpredictions\u001b[0m\u001b[0;34m)\u001b[0m\u001b[0;34m)\u001b[0m\u001b[0;34m\u001b[0m\u001b[0;34m\u001b[0m\u001b[0m\n\u001b[0m",
            "\u001b[0;32m/usr/local/lib/python3.7/dist-packages/sklearn/metrics/_classification.py\u001b[0m in \u001b[0;36mclassification_report\u001b[0;34m(y_true, y_pred, labels, target_names, sample_weight, digits, output_dict, zero_division)\u001b[0m\n\u001b[1;32m   2108\u001b[0m     \"\"\"\n\u001b[1;32m   2109\u001b[0m \u001b[0;34m\u001b[0m\u001b[0m\n\u001b[0;32m-> 2110\u001b[0;31m     \u001b[0my_type\u001b[0m\u001b[0;34m,\u001b[0m \u001b[0my_true\u001b[0m\u001b[0;34m,\u001b[0m \u001b[0my_pred\u001b[0m \u001b[0;34m=\u001b[0m \u001b[0m_check_targets\u001b[0m\u001b[0;34m(\u001b[0m\u001b[0my_true\u001b[0m\u001b[0;34m,\u001b[0m \u001b[0my_pred\u001b[0m\u001b[0;34m)\u001b[0m\u001b[0;34m\u001b[0m\u001b[0;34m\u001b[0m\u001b[0m\n\u001b[0m\u001b[1;32m   2111\u001b[0m \u001b[0;34m\u001b[0m\u001b[0m\n\u001b[1;32m   2112\u001b[0m     \u001b[0;32mif\u001b[0m \u001b[0mlabels\u001b[0m \u001b[0;32mis\u001b[0m \u001b[0;32mNone\u001b[0m\u001b[0;34m:\u001b[0m\u001b[0;34m\u001b[0m\u001b[0;34m\u001b[0m\u001b[0m\n",
            "\u001b[0;32m/usr/local/lib/python3.7/dist-packages/sklearn/metrics/_classification.py\u001b[0m in \u001b[0;36m_check_targets\u001b[0;34m(y_true, y_pred)\u001b[0m\n\u001b[1;32m     93\u001b[0m         raise ValueError(\n\u001b[1;32m     94\u001b[0m             \"Classification metrics can't handle a mix of {0} and {1} targets\".format(\n\u001b[0;32m---> 95\u001b[0;31m                 \u001b[0mtype_true\u001b[0m\u001b[0;34m,\u001b[0m \u001b[0mtype_pred\u001b[0m\u001b[0;34m\u001b[0m\u001b[0;34m\u001b[0m\u001b[0m\n\u001b[0m\u001b[1;32m     96\u001b[0m             )\n\u001b[1;32m     97\u001b[0m         )\n",
            "\u001b[0;31mValueError\u001b[0m: Classification metrics can't handle a mix of multiclass and multilabel-indicator targets"
          ]
        }
      ]
    },
    {
      "cell_type": "code",
      "source": [],
      "metadata": {
        "id": "rpYJDZ46m_dF"
      },
      "execution_count": null,
      "outputs": []
    }
  ]
}